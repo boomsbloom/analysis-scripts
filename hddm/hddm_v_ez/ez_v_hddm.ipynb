{
 "cells": [
  {
   "cell_type": "code",
   "execution_count": 2,
   "metadata": {
    "collapsed": false
   },
   "outputs": [],
   "source": [
    "%matplotlib inline\n",
    "import pandas as pd\n",
    "import matplotlib.pyplot as plt\n",
    "import seaborn as sns\n",
    "import hddm\n",
    "from functions import ddm_sanity_check, combine_data\n",
    "from scipy.stats import pearsonr"
   ]
  },
  {
   "cell_type": "markdown",
   "metadata": {},
   "source": [
    "# HCP WM EZ v HDDM"
   ]
  },
  {
   "cell_type": "code",
   "execution_count": 3,
   "metadata": {
    "collapsed": false
   },
   "outputs": [],
   "source": [
    "# Load behavioral data\n",
    "data = hddm.load_csv('HCP_wm_behavioral_data.csv')\n",
    "data = data.rename(columns={'RT':'rt','accuracy':'response','subject':'subj_idx'})\n",
    "data.rt = data.rt/1000\n",
    "data = data[data['rt'] != 0] #Removing no-response trials\n",
    "LR_data = data[data['session'] == 'LR'] #keeping only LR trials\n",
    "RL_data = data[data['session'] == 'RL'] #keeping only RL trials\n",
    "#load model fits\n",
    "hcp_lr_ez = pd.read_csv('HCP_LR_EZ_est.csv')\n",
    "hcp_lr_hddm = pd.read_csv('HCP_LR_HDDM.csv')\n",
    "hcp_lr_ez['subj'] = hcp_lr_hddm.subj\n",
    "hcp_rl_ez = pd.read_csv('HCP_RL_EZ_est.csv')\n",
    "hcp_rl_hddm = pd.read_csv('HCP_RL_HDDM.csv')\n",
    "hcp_rl_ez['subj'] = hcp_rl_hddm.subj\n"
   ]
  },
  {
   "cell_type": "markdown",
   "metadata": {},
   "source": [
    "## SANITY CHECK"
   ]
  },
  {
   "cell_type": "code",
   "execution_count": 4,
   "metadata": {
    "collapsed": false,
    "scrolled": true
   },
   "outputs": [],
   "source": [
    "tasks = ['0bk' , '2bk']\n",
    "LR_hddm_df = combine_data(hcp_lr_hddm,LR_data,tasks[0],tasks[1])\n",
    "RL_hddm_df = combine_data(hcp_rl_hddm,RL_data,tasks[0],tasks[1])\n",
    "LR_ez_df = combine_data(hcp_lr_ez,LR_data,tasks[0],tasks[1])\n",
    "RL_ez_df = combine_data(hcp_rl_ez,RL_data,tasks[0],tasks[1])"
   ]
  },
  {
   "cell_type": "code",
   "execution_count": 5,
   "metadata": {
    "collapsed": false
   },
   "outputs": [
    {
     "name": "stdout",
     "output_type": "stream",
     "text": [
      "Sane! RT negatively correlates with Drift Rate for 0bk\n",
      "Sane! ACC positively correlates with Drift Rate for 0bk\n",
      "Sane! RT negatively correlates with Drift Rate for 2bk\n",
      "Sane! ACC positively correlates with Drift Rate for 2bk\n",
      "Sane! RT positively correlates with Threshold for 0bk\n",
      "Sane! ACC positively correlates with Threshold for 0bk\n",
      "Sane! RT positively correlates with Threshold for 2bk\n",
      "Sane! ACC positively correlates with Threshold for 2bk\n",
      "Sane! RT positively correlates with NDTime for 0bk\n",
      "Not sane. ACC should not correlate with 0bk_t. Instead: (-0.10378458862759767, 0.022680192359232139)\n",
      "Sane! RT positively correlates with NDTime for 2bk\n",
      "Sane! ACC does not correlate with NDTime for 2bk\n"
     ]
    }
   ],
   "source": [
    "ddm_sanity_check(LR_hddm_df,'0bk','2bk')   "
   ]
  },
  {
   "cell_type": "code",
   "execution_count": 6,
   "metadata": {
    "collapsed": false
   },
   "outputs": [
    {
     "name": "stdout",
     "output_type": "stream",
     "text": [
      "Sane! RT negatively correlates with Drift Rate for 0bk\n",
      "Sane! ACC positively correlates with Drift Rate for 0bk\n",
      "Sane! RT negatively correlates with Drift Rate for 2bk\n",
      "Sane! ACC positively correlates with Drift Rate for 2bk\n",
      "Sane! RT positively correlates with Threshold for 0bk\n",
      "Sane! ACC positively correlates with Threshold for 0bk\n",
      "Sane! RT positively correlates with Threshold for 2bk\n",
      "Sane! ACC positively correlates with Threshold for 2bk\n",
      "Sane! RT positively correlates with NDTime for 0bk\n",
      "Not sane. ACC should not correlate with 0bk_t. Instead: (-0.26497712371368154, 6.058908481378848e-09)\n",
      "Sane! RT positively correlates with NDTime for 2bk\n",
      "Sane! ACC does not correlate with NDTime for 2bk\n"
     ]
    }
   ],
   "source": [
    "ddm_sanity_check(RL_hddm_df,'0bk','2bk')   "
   ]
  },
  {
   "cell_type": "code",
   "execution_count": 7,
   "metadata": {
    "collapsed": false
   },
   "outputs": [
    {
     "name": "stdout",
     "output_type": "stream",
     "text": [
      "Sane! RT negatively correlates with Drift Rate for 0bk\n",
      "Sane! ACC positively correlates with Drift Rate for 0bk\n",
      "Not sane. RT should negatively 2bk_v. Instead: (-0.045232804925762871, 0.32168930235102788)\n",
      "Sane! ACC positively correlates with Drift Rate for 2bk\n",
      "Not sane. RT should positively with 0bk_a. Instead: (9.7991918112870469e-05, 0.99828791858341526)\n",
      "Sane! ACC positively correlates with Threshold for 0bk\n",
      "Not sane. RT should positively correlate with 2bk_a. Instead: (0.07478753670681268, 0.10101411649164915)\n",
      "Sane! ACC positively correlates with Threshold for 2bk\n",
      "Sane! RT positively correlates with NDTime for 0bk\n",
      "Not sane. ACC should not correlate with 0bk_t. Instead: (-0.14348054316665154, 0.0015873559324343718)\n",
      "Not sane. RT should positively correlate with 2bk_t. Instead: (0.0079370409446778614, 0.86201946346352765)\n",
      "Sane! ACC does not correlate with NDTime for 2bk\n"
     ]
    }
   ],
   "source": [
    "ddm_sanity_check(LR_ez_df,'0bk','2bk')"
   ]
  },
  {
   "cell_type": "code",
   "execution_count": 8,
   "metadata": {
    "collapsed": false
   },
   "outputs": [
    {
     "name": "stdout",
     "output_type": "stream",
     "text": [
      "Not sane. RT should negatively correlate with 0bk_v. Instead: (-0.051731593907071161, 0.26455898746982981)\n",
      "Sane! ACC positively correlates with Drift Rate for 0bk\n",
      "Not sane. RT should negatively 2bk_v. Instead: (-0.010147770537480647, 0.82687353972132283)\n",
      "Not sane. ACC should positively correlate with 2bk_v. Instead: (0.069074910131460124, 0.1360923645387441)\n",
      "Not sane. RT should positively with 0bk_a. Instead: (-0.045137980954444254, 0.33039327632504056)\n",
      "Sane! ACC positively correlates with Threshold for 0bk\n",
      "Not sane. RT should positively correlate with 2bk_a. Instead: (0.053862532768428235, 0.24535604604195105)\n",
      "Not sane. ACC should positively correlate with 2bk_a. Instead: (0.055136809279235144, 0.23434991754779289)\n",
      "Sane! RT positively correlates with NDTime for 0bk\n",
      "Sane! ACC does not correlate with NDTime for 0bk\n",
      "Not sane. RT should positively correlate with 2bk_t. Instead: (0.055966343006051605, 0.22737517452657849)\n",
      "Sane! ACC does not correlate with NDTime for 2bk\n"
     ]
    }
   ],
   "source": [
    "ddm_sanity_check(RL_ez_df,'0bk','2bk')   "
   ]
  },
  {
   "cell_type": "markdown",
   "metadata": {},
   "source": [
    "## Pearson R between EZ and HDDM"
   ]
  },
  {
   "cell_type": "code",
   "execution_count": 9,
   "metadata": {
    "collapsed": false
   },
   "outputs": [
    {
     "name": "stdout",
     "output_type": "stream",
     "text": [
      "(0.1908318734171694, 2.4695998564186291e-05)\n",
      "(0.14496813584491838, 0.0014162786367569796)\n",
      "(0.11833795792177003, 0.0093102152400445972)\n",
      "(0.21978411989097102, 1.1023742032596119e-06)\n",
      "(0.13690282295809486, 0.0025951351925500984)\n",
      "(0.063734393832497085, 0.16240028394945183)\n"
     ]
    }
   ],
   "source": [
    "print pearsonr(hcp_lr_ez['0bk_a'],hcp_lr_hddm['0bk_a'])\n",
    "print pearsonr(hcp_lr_ez['0bk_v'],hcp_lr_hddm['0bk_v'])\n",
    "print pearsonr(hcp_lr_ez['0bk_t'],hcp_lr_hddm['0bk_t'])\n",
    "\n",
    "print pearsonr(hcp_lr_ez['2bk_a'],hcp_lr_hddm['2bk_a'])\n",
    "print pearsonr(hcp_lr_ez['2bk_v'],hcp_lr_hddm['2bk_v'])\n",
    "print pearsonr(hcp_lr_ez['2bk_t'],hcp_lr_hddm['2bk_t'])"
   ]
  },
  {
   "cell_type": "code",
   "execution_count": 10,
   "metadata": {
    "collapsed": false
   },
   "outputs": [
    {
     "name": "stdout",
     "output_type": "stream",
     "text": [
      "(0.16161180585744989, 0.00045459464367709118)\n",
      "(0.14075032221416822, 0.0022985017104391937)\n",
      "(0.12740439245321264, 0.0058316992667954261)\n",
      "(0.15073650510218675, 0.0010853961727564487)\n",
      "(0.017246426398638194, 0.71009592808184807)\n",
      "(0.046882853062540329, 0.31202225810499645)\n"
     ]
    }
   ],
   "source": [
    "print pearsonr(hcp_rl_ez['0bk_a'],hcp_rl_hddm['0bk_a'])\n",
    "print pearsonr(hcp_rl_ez['0bk_v'],hcp_rl_hddm['0bk_v'])\n",
    "print pearsonr(hcp_rl_ez['0bk_t'],hcp_rl_hddm['0bk_t'])\n",
    "\n",
    "print pearsonr(hcp_rl_ez['2bk_a'],hcp_rl_hddm['2bk_a'])\n",
    "print pearsonr(hcp_rl_ez['2bk_v'],hcp_rl_hddm['2bk_v'])\n",
    "print pearsonr(hcp_rl_ez['2bk_t'],hcp_rl_hddm['2bk_t'])"
   ]
  },
  {
   "cell_type": "markdown",
   "metadata": {},
   "source": [
    "# ASD/TD MATH EZ v HDDM"
   ]
  },
  {
   "cell_type": "code",
   "execution_count": 11,
   "metadata": {
    "collapsed": false
   },
   "outputs": [],
   "source": [
    "# Load behavioral data\n",
    "ASD_data = hddm.load_csv('ASD_data.csv')\n",
    "ASD_data = ASD_data.rename(columns={'Equation.RT':'rt','ACC':'response','Subject':'subj_idx','Condition':'task'})\n",
    "ASD_data.rt = ASD_data.rt/1000\n",
    "ASD_data = ASD_data[ASD_data['rt'] != 0] #Removing no-response trials\n",
    "\n",
    "TD_data = hddm.load_csv('TD_data.csv')\n",
    "TD_data = TD_data.rename(columns={'Equation.RT':'rt','ACC':'response','Subject':'subj_idx','Condition':'task'})\n",
    "TD_data.rt = TD_data.rt/1000\n",
    "TD_data = TD_data[TD_data['rt'] != 0] #Removing no-response trials\n",
    "\n",
    "#load model fits\n",
    "asd_ez = pd.read_csv('ASD_EZ_est.csv')\n",
    "asd_hddm = pd.read_csv('ASD_HDDM_est.csv')\n",
    "asd_ez['subj'] = asd_hddm['subj']\n",
    "td_ez = pd.read_csv('TD_EZ_est.csv')\n",
    "td_hddm = pd.read_csv('TD_HDDM_est.csv')\n",
    "td_ez['subj'] = td_hddm['subj']"
   ]
  },
  {
   "cell_type": "markdown",
   "metadata": {},
   "source": [
    "## SANITY CHECK"
   ]
  },
  {
   "cell_type": "code",
   "execution_count": 12,
   "metadata": {
    "collapsed": false
   },
   "outputs": [],
   "source": [
    "tasks = ['simple','complex']\n",
    "ASD_hddm_df = combine_data(asd_hddm,ASD_data,tasks[0],tasks[1])\n",
    "TD_hddm_df = combine_data(td_hddm,TD_data,tasks[0],tasks[1])\n",
    "ASD_ez_df = combine_data(asd_ez,ASD_data,tasks[0],tasks[1])\n",
    "TD_ez_df = combine_data(td_ez,TD_data,tasks[0],tasks[1])"
   ]
  },
  {
   "cell_type": "code",
   "execution_count": 13,
   "metadata": {
    "collapsed": false
   },
   "outputs": [
    {
     "name": "stdout",
     "output_type": "stream",
     "text": [
      "Sane! RT negatively correlates with Drift Rate for simple\n",
      "Sane! ACC positively correlates with Drift Rate for simple\n",
      "Not sane. RT should negatively complex_v. Instead: (-0.46123293753813205, 0.072139001623374679)\n",
      "Sane! ACC positively correlates with Drift Rate for complex\n",
      "Not sane. RT should positively with simple_a. Instead: (0.3299610308113794, 0.21199381611475654)\n",
      "Not sane. ACC should positively correlate with simple_a. Instead: (0.39401546868875731, 0.13102171344849267)\n",
      "Not sane. RT should positively correlate with complex_a. Instead: (0.41376983384345806, 0.11111659369302465)\n",
      "Sane! ACC positively correlates with Threshold for complex\n",
      "Sane! RT positively correlates with NDTime for simple\n",
      "Sane! ACC does not correlate with NDTime for simple\n",
      "Sane! RT positively correlates with NDTime for complex\n",
      "Sane! ACC does not correlate with NDTime for complex\n"
     ]
    }
   ],
   "source": [
    "ddm_sanity_check(ASD_hddm_df,'simple','complex')   "
   ]
  },
  {
   "cell_type": "code",
   "execution_count": 14,
   "metadata": {
    "collapsed": false
   },
   "outputs": [
    {
     "name": "stdout",
     "output_type": "stream",
     "text": [
      "Sane! RT negatively correlates with Drift Rate for simple\n",
      "Sane! ACC positively correlates with Drift Rate for simple\n",
      "Sane! RT negatively correlates with Drift Rate for complex\n",
      "Sane! ACC positively correlates with Drift Rate for complex\n",
      "Not sane. RT should positively with simple_a. Instead: (0.30815368431000517, 0.24557676212057744)\n",
      "Not sane. ACC should positively correlate with simple_a. Instead: (0.32318744438046365, 0.22209108513466996)\n",
      "Not sane. RT should positively correlate with complex_a. Instead: (0.27779362102096861, 0.29754000976858064)\n",
      "Not sane. ACC should positively correlate with complex_a. Instead: (0.38279867354431008, 0.14335346546018593)\n",
      "Sane! RT positively correlates with NDTime for simple\n",
      "Not sane. ACC should not correlate with simple_t. Instead: (-0.62801739749920804, 0.0091880541190329269)\n",
      "Sane! RT positively correlates with NDTime for complex\n",
      "Sane! ACC does not correlate with NDTime for complex\n"
     ]
    }
   ],
   "source": [
    "ddm_sanity_check(TD_hddm_df,'simple','complex')"
   ]
  },
  {
   "cell_type": "code",
   "execution_count": 15,
   "metadata": {
    "collapsed": false
   },
   "outputs": [
    {
     "name": "stdout",
     "output_type": "stream",
     "text": [
      "Not sane. RT should negatively correlate with simple_v. Instead: (0.40582192674971723, 0.11885186917700613)\n",
      "Not sane. ACC should positively correlate with simple_v. Instead: (-0.31575714674444477, 0.23351302650779471)\n",
      "Not sane. RT should negatively complex_v. Instead: (0.043057790628358766, 0.87419489327515343)\n",
      "Not sane. ACC should positively correlate with complex_v. Instead: (0.41777238285965651, 0.10735776033593498)\n",
      "Not sane. RT should positively with simple_a. Instead: (-0.20017196078335389, 0.45729324898327428)\n",
      "Not sane. ACC should positively correlate with simple_a. Instead: (0.11401497971804887, 0.67416331583321643)\n",
      "Not sane. RT should positively correlate with complex_a. Instead: (0.23552358176519353, 0.37987782088123551)\n",
      "Not sane. ACC should positively correlate with complex_a. Instead: (-0.033201064574801174, 0.90284828802481709)\n",
      "Not sane. RT should positively correlate with simple_t. Instead: (-0.10637886507699229, 0.69497370055964303)\n",
      "Sane! ACC does not correlate with NDTime for simple\n",
      "Not sane. RT should positively correlate with complex_t. Instead: (-0.10051248781514419, 0.71110183099127311)\n",
      "Sane! ACC does not correlate with NDTime for complex\n"
     ]
    }
   ],
   "source": [
    "ddm_sanity_check(ASD_ez_df,'simple','complex')   "
   ]
  },
  {
   "cell_type": "code",
   "execution_count": 16,
   "metadata": {
    "collapsed": false
   },
   "outputs": [
    {
     "name": "stdout",
     "output_type": "stream",
     "text": [
      "Sane! RT negatively correlates with Drift Rate for simple\n",
      "Sane! ACC positively correlates with Drift Rate for simple\n",
      "Sane! RT negatively correlates with Drift Rate for complex\n",
      "Sane! ACC positively correlates with Drift Rate for complex\n",
      "Not sane. RT should positively with simple_a. Instead: (0.3156023974894584, 0.23375476254277136)\n",
      "Not sane. ACC should positively correlate with simple_a. Instead: (0.2755229539259757, 0.30166970219861694)\n",
      "Not sane. RT should positively correlate with complex_a. Instead: (-0.1368499432474628, 0.6132887605738675)\n",
      "Sane! ACC positively correlates with Threshold for complex\n",
      "Sane! RT positively correlates with NDTime for simple\n",
      "Not sane. ACC should not correlate with simple_t. Instead: (-0.70705147324052575, 0.0021917442379145993)\n",
      "Sane! RT positively correlates with NDTime for complex\n",
      "Not sane. ACC should not correlate with complex_t. Instead: (-0.6711742464448468, 0.0044196804776447957)\n"
     ]
    }
   ],
   "source": [
    "ddm_sanity_check(TD_ez_df,'simple','complex')   "
   ]
  },
  {
   "cell_type": "markdown",
   "metadata": {},
   "source": [
    "## Pearson R between EZ and HDDM"
   ]
  },
  {
   "cell_type": "code",
   "execution_count": 17,
   "metadata": {
    "collapsed": false
   },
   "outputs": [
    {
     "name": "stdout",
     "output_type": "stream",
     "text": [
      "(0.30952892716725178, 0.24336660369208934)\n",
      "(-0.55098651680705479, 0.026962385759547128)\n",
      "(0.066397983905592539, 0.80698574463562756)\n",
      "(-0.21643004114092049, 0.42075874271804847)\n",
      "(0.25446254124662065, 0.34156988229488799)\n",
      "(-0.30823269509276324, 0.24544944639734961)\n"
     ]
    }
   ],
   "source": [
    "print pearsonr(asd_ez['simple_a'],asd_hddm['simple_a'])\n",
    "print pearsonr(asd_ez['simple_v'],asd_hddm['simple_v'])\n",
    "print pearsonr(asd_ez['simple_t'],asd_hddm['simple_t'])\n",
    "\n",
    "print pearsonr(asd_ez['complex_a'],asd_hddm['complex_a'])\n",
    "print pearsonr(asd_ez['complex_v'],asd_hddm['complex_v'])\n",
    "print pearsonr(asd_ez['complex_t'],asd_hddm['complex_t'])"
   ]
  },
  {
   "cell_type": "code",
   "execution_count": 18,
   "metadata": {
    "collapsed": false
   },
   "outputs": [
    {
     "name": "stdout",
     "output_type": "stream",
     "text": [
      "(0.83797099108487738, 5.0641701264725168e-05)\n",
      "(0.98220469185336168, 1.4458253374217568e-11)\n",
      "(0.88819379813347887, 4.3370125786002048e-06)\n",
      "(0.63851329257332157, 0.0077658745599451136)\n",
      "(0.9763419869215757, 1.0449254127340931e-10)\n",
      "(0.65493310702121132, 0.0058966548074087695)\n"
     ]
    }
   ],
   "source": [
    "print pearsonr(td_ez['simple_a'],td_hddm['simple_a'])\n",
    "print pearsonr(td_ez['simple_v'],td_hddm['simple_v'])\n",
    "print pearsonr(td_ez['simple_t'],td_hddm['simple_t'])\n",
    "\n",
    "print pearsonr(td_ez['complex_a'],td_hddm['complex_a'])\n",
    "print pearsonr(td_ez['complex_v'],td_hddm['complex_v'])\n",
    "print pearsonr(td_ez['complex_t'],td_hddm['complex_t'])"
   ]
  },
  {
   "cell_type": "code",
   "execution_count": null,
   "metadata": {
    "collapsed": true
   },
   "outputs": [],
   "source": []
  }
 ],
 "metadata": {
  "kernelspec": {
   "display_name": "Python 2",
   "language": "python",
   "name": "python2"
  },
  "language_info": {
   "codemirror_mode": {
    "name": "ipython",
    "version": 2
   },
   "file_extension": ".py",
   "mimetype": "text/x-python",
   "name": "python",
   "nbconvert_exporter": "python",
   "pygments_lexer": "ipython2",
   "version": "2.7.10"
  }
 },
 "nbformat": 4,
 "nbformat_minor": 0
}
